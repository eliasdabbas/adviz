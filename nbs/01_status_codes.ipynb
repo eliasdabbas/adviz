{
 "cells": [
  {
   "cell_type": "raw",
   "id": "4f309b4e-f53e-4db7-afef-2e5644c292c5",
   "metadata": {},
   "source": [
    "---\n",
    "twitter-card:\n",
    "  image: \"data/images/status_codes_chart.png\"\n",
    "---"
   ]
  },
  {
   "cell_type": "markdown",
   "id": "70beb828-c659-4a33-b81b-6d972832d5fe",
   "metadata": {},
   "source": [
    "# Status Codes\n",
    "\n",
    "> Create a treemap for visualizing status code on two levels: the status category (100, 200, 300, 400, 500) and the status codes' actual values (200, 301, 404, etc.)\n",
    "\n",
    "## Input: \n",
    "\n",
    "A list of of status codes.\n",
    "\n",
    "## Output:\n",
    "\n",
    "A `plotly.graph_objects.Figure` object. A treemap with two levels showing the distribution/proportions. "
   ]
  },
  {
   "cell_type": "code",
   "execution_count": null,
   "id": "a29e7a46-89d3-42d8-b59d-616386fa69a3",
   "metadata": {},
   "outputs": [],
   "source": [
    "# | default_exp status_codes"
   ]
  },
  {
   "cell_type": "code",
   "execution_count": null,
   "id": "7c7c7342-28d3-41c0-91cc-807a18661748",
   "metadata": {},
   "outputs": [],
   "source": [
    "# | hide\n",
    "from nbdev.showdoc import *"
   ]
  },
  {
   "cell_type": "code",
   "execution_count": null,
   "id": "641e7cc2-4e7f-495c-bfea-bdcc537fe5a4",
   "metadata": {},
   "outputs": [],
   "source": [
    "# | export\n",
    "from http.client import responses\n",
    "\n",
    "import pandas as pd\n",
    "import plotly.express as px"
   ]
  },
  {
   "cell_type": "code",
   "execution_count": null,
   "id": "2ef95958-a716-4bb1-a038-2a5ad4f60183",
   "metadata": {},
   "outputs": [],
   "source": [
    "# | export\n",
    "_texttemplate = \"<b>%{label} </b><br><br>Status code: %{label} %{customdata[0]}<br>Count: %{value:,}<br>%{percentParent:.1%} of %{parent}<br>\"  # %{percentRoot:.1%} of %{root}'"
   ]
  },
  {
   "cell_type": "code",
   "execution_count": null,
   "id": "0693fd3a-8feb-4371-8590-fbd4bddd0eb4",
   "metadata": {},
   "outputs": [],
   "source": [
    "# | export\n",
    "def status_codes(\n",
    "    status_list,\n",
    "    height=600,\n",
    "    width=None,\n",
    "    template=\"none\",\n",
    "    title=\"Status Codes\",\n",
    "    subtitle=None,\n",
    "):\n",
    "    \"\"\"Create a treemap to visualize a list of status codes.\n",
    "\n",
    "    Parameters\n",
    "    ----------\n",
    "\n",
    "    status_list : list, tuple, pandas.Series\n",
    "        A collection of HTTP status codes\n",
    "    height: integer\n",
    "        The desired height of the figure in pixels\n",
    "    width: integer\n",
    "        The desired width of the figure in pixels\n",
    "    template : str\n",
    "        Name of template to use for the chart. Available themes:\n",
    "            ggplot2, seaborn, simple_white, plotly, plotly_white, plotly_dark,\n",
    "            presentation, xgridoff, ygridoff, gridon, none\n",
    "    title : str\n",
    "        The title of the figure. You can use/include the following HTML tags in\n",
    "        the title: `<a>`, `<b>`, `<br>`, `<i>`, `<sub>`, `<sup>`\n",
    "    subtitle : str\n",
    "        The subtitle of the figure, by default 70% of the font size of the title\n",
    "\n",
    "    Returns\n",
    "    -------\n",
    "    status_codes_figure : plotly.graph_objects.Figure\n",
    "    \"\"\"\n",
    "    status_counts = pd.Series(status_list).value_counts().reset_index()\n",
    "    status_counts.columns = [\"status\", \"count\"]\n",
    "    status_counts = status_counts.assign(\n",
    "        status_cat=lambda df: df[\"status\"].astype(int).round(-2)\n",
    "    ).assign(status_desc=lambda df: [responses[int(code)] for code in df[\"status\"]])\n",
    "    status_fig = px.treemap(\n",
    "        status_counts,\n",
    "        maxdepth=2,\n",
    "        path=[px.Constant(\"Status codes\"), \"status_cat\", \"status\"],\n",
    "        hover_name=\"status_cat\",\n",
    "        height=height,\n",
    "        width=width,\n",
    "        custom_data=[\"status_desc\"],\n",
    "        values=\"count\",\n",
    "        title=title,\n",
    "        subtitle=subtitle,\n",
    "        template=template,\n",
    "    )\n",
    "    status_fig.data[0].marker.line.width = 0.01\n",
    "    status_fig.data[0].marker.pad = dict.fromkeys(\"lrbt\", 0)\n",
    "    status_fig.data[0][\"texttemplate\"] = _texttemplate\n",
    "    status_fig.data[0][\"hovertemplate\"] = _texttemplate\n",
    "    return status_fig"
   ]
  },
  {
   "cell_type": "markdown",
   "id": "af2f71e7-bc08-4ad2-a083-8f99526a2b12",
   "metadata": {},
   "source": [
    "### Visualize the distribution of a list of status codes"
   ]
  },
  {
   "cell_type": "code",
   "execution_count": null,
   "id": "565f9555-63b8-461e-b4b0-e9987fb83dea",
   "metadata": {},
   "outputs": [
    {
     "data": {
      "text/html": [
       "<div>\n",
       "<style scoped>\n",
       "    .dataframe tbody tr th:only-of-type {\n",
       "        vertical-align: middle;\n",
       "    }\n",
       "\n",
       "    .dataframe tbody tr th {\n",
       "        vertical-align: top;\n",
       "    }\n",
       "\n",
       "    .dataframe thead th {\n",
       "        text-align: right;\n",
       "    }\n",
       "</style>\n",
       "<table border=\"1\" class=\"dataframe\">\n",
       "  <thead>\n",
       "    <tr style=\"text-align: right;\">\n",
       "      <th></th>\n",
       "      <th>status</th>\n",
       "    </tr>\n",
       "  </thead>\n",
       "  <tbody>\n",
       "    <tr>\n",
       "      <th>0</th>\n",
       "      <td>200</td>\n",
       "    </tr>\n",
       "    <tr>\n",
       "      <th>1</th>\n",
       "      <td>200</td>\n",
       "    </tr>\n",
       "    <tr>\n",
       "      <th>2</th>\n",
       "      <td>200</td>\n",
       "    </tr>\n",
       "    <tr>\n",
       "      <th>3</th>\n",
       "      <td>200</td>\n",
       "    </tr>\n",
       "    <tr>\n",
       "      <th>4</th>\n",
       "      <td>200</td>\n",
       "    </tr>\n",
       "    <tr>\n",
       "      <th>...</th>\n",
       "      <td>...</td>\n",
       "    </tr>\n",
       "    <tr>\n",
       "      <th>414398</th>\n",
       "      <td>200</td>\n",
       "    </tr>\n",
       "    <tr>\n",
       "      <th>414399</th>\n",
       "      <td>200</td>\n",
       "    </tr>\n",
       "    <tr>\n",
       "      <th>414400</th>\n",
       "      <td>200</td>\n",
       "    </tr>\n",
       "    <tr>\n",
       "      <th>414401</th>\n",
       "      <td>200</td>\n",
       "    </tr>\n",
       "    <tr>\n",
       "      <th>414402</th>\n",
       "      <td>200</td>\n",
       "    </tr>\n",
       "  </tbody>\n",
       "</table>\n",
       "<p>414403 rows × 1 columns</p>\n",
       "</div>"
      ],
      "text/plain": [
       "        status\n",
       "0          200\n",
       "1          200\n",
       "2          200\n",
       "3          200\n",
       "4          200\n",
       "...        ...\n",
       "414398     200\n",
       "414399     200\n",
       "414400     200\n",
       "414401     200\n",
       "414402     200\n",
       "\n",
       "[414403 rows x 1 columns]"
      ]
     },
     "execution_count": null,
     "metadata": {},
     "output_type": "execute_result"
    }
   ],
   "source": [
    "codes = pd.read_csv(\"data/status_codes.csv\")\n",
    "codes"
   ]
  },
  {
   "cell_type": "code",
   "execution_count": null,
   "id": "dc20af68-1fab-40a9-a80f-2ea2ca6097bf",
   "metadata": {},
   "outputs": [
    {
     "data": {
      "text/html": [
       "<div>            <script src=\"https://cdnjs.cloudflare.com/ajax/libs/mathjax/2.7.5/MathJax.js?config=TeX-AMS-MML_SVG\"></script><script type=\"text/javascript\">if (window.MathJax && window.MathJax.Hub && window.MathJax.Hub.Config) {window.MathJax.Hub.Config({SVG: {font: \"STIX-Web\"}});}</script>                <script type=\"text/javascript\">window.PlotlyConfig = {MathJaxConfig: 'local'};</script>\n",
       "        <script charset=\"utf-8\" src=\"https://cdn.plot.ly/plotly-3.0.1.min.js\" integrity=\"sha256-oy6Be7Eh6eiQFs5M7oXuPxxm9qbJXEtTpfSI93dW16Q=\" crossorigin=\"anonymous\"></script>                <div id=\"ca2c4617-2a18-4515-b26c-565105b40f8b\" class=\"plotly-graph-div\" style=\"height:600px; width:100%;\"></div>            <script type=\"text/javascript\">                window.PLOTLYENV=window.PLOTLYENV || {};                                if (document.getElementById(\"ca2c4617-2a18-4515-b26c-565105b40f8b\")) {                    Plotly.newPlot(                        \"ca2c4617-2a18-4515-b26c-565105b40f8b\",                        [{\"branchvalues\":\"total\",\"customdata\":[[\"OK\"],[\"Partial Content\"],[\"Not Modified\"],[\"Moved Permanently\"],[\"Not Found\"],[\"Found\"],[\"Forbidden\"],[\"Service Unavailable\"],[\"Unauthorized\"],[\"Too Many Requests\"],[\"Method Not Allowed\"],[\"Created\"],[\"Conflict\"],[\"Bad Request\"],[\"Internal Server Error\"],[\"See Other\"],[\"(?)\"],[\"(?)\"],[\"(?)\"],[\"(?)\"],[\"(?)\"]],\"domain\":{\"x\":[0.0,1.0],\"y\":[0.0,1.0]},\"hovertemplate\":\"\\u003cb\\u003e%{label} \\u003c\\u002fb\\u003e\\u003cbr\\u003e\\u003cbr\\u003eStatus code: %{label} %{customdata[0]}\\u003cbr\\u003eCount: %{value:,}\\u003cbr\\u003e%{percentParent:.1%} of %{parent}\\u003cbr\\u003e\",\"hovertext\":[\"200\",\"200\",\"300\",\"300\",\"400\",\"300\",\"400\",\"500\",\"400\",\"400\",\"400\",\"200\",\"400\",\"400\",\"500\",\"300\",\"200\",\"300\",\"400\",\"500\",\"(?)\"],\"ids\":[\"Status codes\\u002f200\\u002f200\",\"Status codes\\u002f200\\u002f206\",\"Status codes\\u002f300\\u002f304\",\"Status codes\\u002f300\\u002f301\",\"Status codes\\u002f400\\u002f404\",\"Status codes\\u002f300\\u002f302\",\"Status codes\\u002f400\\u002f403\",\"Status codes\\u002f500\\u002f503\",\"Status codes\\u002f400\\u002f401\",\"Status codes\\u002f400\\u002f429\",\"Status codes\\u002f400\\u002f405\",\"Status codes\\u002f200\\u002f201\",\"Status codes\\u002f400\\u002f409\",\"Status codes\\u002f400\\u002f400\",\"Status codes\\u002f500\\u002f500\",\"Status codes\\u002f300\\u002f303\",\"Status codes\\u002f200\",\"Status codes\\u002f300\",\"Status codes\\u002f400\",\"Status codes\\u002f500\",\"Status codes\"],\"labels\":[\"200\",\"206\",\"304\",\"301\",\"404\",\"302\",\"403\",\"503\",\"401\",\"429\",\"405\",\"201\",\"409\",\"400\",\"500\",\"303\",\"200\",\"300\",\"400\",\"500\",\"Status codes\"],\"maxdepth\":2,\"name\":\"\",\"parents\":[\"Status codes\\u002f200\",\"Status codes\\u002f200\",\"Status codes\\u002f300\",\"Status codes\\u002f300\",\"Status codes\\u002f400\",\"Status codes\\u002f300\",\"Status codes\\u002f400\",\"Status codes\\u002f500\",\"Status codes\\u002f400\",\"Status codes\\u002f400\",\"Status codes\\u002f400\",\"Status codes\\u002f200\",\"Status codes\\u002f400\",\"Status codes\\u002f400\",\"Status codes\\u002f500\",\"Status codes\\u002f300\",\"Status codes\",\"Status codes\",\"Status codes\",\"Status codes\",\"\"],\"values\":{\"dtype\":\"f8\",\"bdata\":\"AAAAAGSiFUEAAAAAgHLkQAAAAAAAi7pAAAAAAACLsEAAAAAAADKtQAAAAAAAJJpAAAAAAAAokEAAAAAAAMBwQAAAAAAAwF5AAAAAAAAAT0AAAAAAAABKQAAAAAAAgEFAAAAAAAAAOUAAAAAAAAA3QAAAAAAAABxAAAAAAAAA8D8AAAAAQDEYQQAAAAAA0MhAAAAAAADAs0AAAAAAADBxQAAAAAAMSxlB\"},\"type\":\"treemap\",\"marker\":{\"line\":{\"width\":0.01},\"pad\":{\"b\":0,\"l\":0,\"r\":0,\"t\":0}},\"texttemplate\":\"\\u003cb\\u003e%{label} \\u003c\\u002fb\\u003e\\u003cbr\\u003e\\u003cbr\\u003eStatus code: %{label} %{customdata[0]}\\u003cbr\\u003eCount: %{value:,}\\u003cbr\\u003e%{percentParent:.1%} of %{parent}\\u003cbr\\u003e\"}],                        {\"template\":{\"data\":{\"scatter\":[{\"type\":\"scatter\"}]}},\"legend\":{\"tracegroupgap\":0},\"title\":{\"text\":\"Status Codes\"},\"height\":600},                        {\"responsive\": true}                    ).then(function(){\n",
       "                            \n",
       "var gd = document.getElementById('ca2c4617-2a18-4515-b26c-565105b40f8b');\n",
       "var x = new MutationObserver(function (mutations, observer) {{\n",
       "        var display = window.getComputedStyle(gd).display;\n",
       "        if (!display || display === 'none') {{\n",
       "            console.log([gd, 'removed!']);\n",
       "            Plotly.purge(gd);\n",
       "            observer.disconnect();\n",
       "        }}\n",
       "}});\n",
       "\n",
       "// Listen for the removal of the full notebook cells\n",
       "var notebookContainer = gd.closest('#notebook-container');\n",
       "if (notebookContainer) {{\n",
       "    x.observe(notebookContainer, {childList: true});\n",
       "}}\n",
       "\n",
       "// Listen for the clearing of the current output cell\n",
       "var outputEl = gd.closest('.output');\n",
       "if (outputEl) {{\n",
       "    x.observe(outputEl, {childList: true});\n",
       "}}\n",
       "\n",
       "                        })                };            </script>        </div>"
      ]
     },
     "metadata": {},
     "output_type": "display_data"
    }
   ],
   "source": [
    "status_codes(codes[\"status\"])"
   ]
  },
  {
   "cell_type": "markdown",
   "id": "cac4f02a-a7ba-48a2-bc72-112b5ae0362b",
   "metadata": {},
   "source": [
    "## Change the template with the `template` parameter"
   ]
  },
  {
   "cell_type": "code",
   "execution_count": null,
   "id": "f571b5d6-5b8e-4665-a8c3-894546645282",
   "metadata": {},
   "outputs": [
    {
     "data": {
      "text/html": [
       "<div>            <script src=\"https://cdnjs.cloudflare.com/ajax/libs/mathjax/2.7.5/MathJax.js?config=TeX-AMS-MML_SVG\"></script><script type=\"text/javascript\">if (window.MathJax && window.MathJax.Hub && window.MathJax.Hub.Config) {window.MathJax.Hub.Config({SVG: {font: \"STIX-Web\"}});}</script>                <script type=\"text/javascript\">window.PlotlyConfig = {MathJaxConfig: 'local'};</script>\n",
       "        <script charset=\"utf-8\" src=\"https://cdn.plot.ly/plotly-3.0.1.min.js\" integrity=\"sha256-oy6Be7Eh6eiQFs5M7oXuPxxm9qbJXEtTpfSI93dW16Q=\" crossorigin=\"anonymous\"></script>                <div id=\"def6db9d-8aa9-4eb3-8648-3d5dc966ed76\" class=\"plotly-graph-div\" style=\"height:600px; width:100%;\"></div>            <script type=\"text/javascript\">                window.PLOTLYENV=window.PLOTLYENV || {};                                if (document.getElementById(\"def6db9d-8aa9-4eb3-8648-3d5dc966ed76\")) {                    Plotly.newPlot(                        \"def6db9d-8aa9-4eb3-8648-3d5dc966ed76\",                        [{\"branchvalues\":\"total\",\"customdata\":[[\"OK\"],[\"Partial Content\"],[\"Not Modified\"],[\"Moved Permanently\"],[\"Not Found\"],[\"Found\"],[\"Forbidden\"],[\"Service Unavailable\"],[\"Unauthorized\"],[\"Too Many Requests\"],[\"Method Not Allowed\"],[\"Created\"],[\"Conflict\"],[\"Bad Request\"],[\"Internal Server Error\"],[\"See Other\"],[\"(?)\"],[\"(?)\"],[\"(?)\"],[\"(?)\"],[\"(?)\"]],\"domain\":{\"x\":[0.0,1.0],\"y\":[0.0,1.0]},\"hovertemplate\":\"\\u003cb\\u003e%{label} \\u003c\\u002fb\\u003e\\u003cbr\\u003e\\u003cbr\\u003eStatus code: %{label} %{customdata[0]}\\u003cbr\\u003eCount: %{value:,}\\u003cbr\\u003e%{percentParent:.1%} of %{parent}\\u003cbr\\u003e\",\"hovertext\":[\"200\",\"200\",\"300\",\"300\",\"400\",\"300\",\"400\",\"500\",\"400\",\"400\",\"400\",\"200\",\"400\",\"400\",\"500\",\"300\",\"200\",\"300\",\"400\",\"500\",\"(?)\"],\"ids\":[\"Status codes\\u002f200\\u002f200\",\"Status codes\\u002f200\\u002f206\",\"Status codes\\u002f300\\u002f304\",\"Status codes\\u002f300\\u002f301\",\"Status codes\\u002f400\\u002f404\",\"Status codes\\u002f300\\u002f302\",\"Status codes\\u002f400\\u002f403\",\"Status codes\\u002f500\\u002f503\",\"Status codes\\u002f400\\u002f401\",\"Status codes\\u002f400\\u002f429\",\"Status codes\\u002f400\\u002f405\",\"Status codes\\u002f200\\u002f201\",\"Status codes\\u002f400\\u002f409\",\"Status codes\\u002f400\\u002f400\",\"Status codes\\u002f500\\u002f500\",\"Status codes\\u002f300\\u002f303\",\"Status codes\\u002f200\",\"Status codes\\u002f300\",\"Status codes\\u002f400\",\"Status codes\\u002f500\",\"Status codes\"],\"labels\":[\"200\",\"206\",\"304\",\"301\",\"404\",\"302\",\"403\",\"503\",\"401\",\"429\",\"405\",\"201\",\"409\",\"400\",\"500\",\"303\",\"200\",\"300\",\"400\",\"500\",\"Status codes\"],\"maxdepth\":2,\"name\":\"\",\"parents\":[\"Status codes\\u002f200\",\"Status codes\\u002f200\",\"Status codes\\u002f300\",\"Status codes\\u002f300\",\"Status codes\\u002f400\",\"Status codes\\u002f300\",\"Status codes\\u002f400\",\"Status codes\\u002f500\",\"Status codes\\u002f400\",\"Status codes\\u002f400\",\"Status codes\\u002f400\",\"Status codes\\u002f200\",\"Status codes\\u002f400\",\"Status codes\\u002f400\",\"Status codes\\u002f500\",\"Status codes\\u002f300\",\"Status codes\",\"Status codes\",\"Status codes\",\"Status codes\",\"\"],\"values\":{\"dtype\":\"f8\",\"bdata\":\"AAAAAGSiFUEAAAAAgHLkQAAAAAAAi7pAAAAAAACLsEAAAAAAADKtQAAAAAAAJJpAAAAAAAAokEAAAAAAAMBwQAAAAAAAwF5AAAAAAAAAT0AAAAAAAABKQAAAAAAAgEFAAAAAAAAAOUAAAAAAAAA3QAAAAAAAABxAAAAAAAAA8D8AAAAAQDEYQQAAAAAA0MhAAAAAAADAs0AAAAAAADBxQAAAAAAMSxlB\"},\"type\":\"treemap\",\"marker\":{\"line\":{\"width\":0.01},\"pad\":{\"b\":0,\"l\":0,\"r\":0,\"t\":0}},\"texttemplate\":\"\\u003cb\\u003e%{label} \\u003c\\u002fb\\u003e\\u003cbr\\u003e\\u003cbr\\u003eStatus code: %{label} %{customdata[0]}\\u003cbr\\u003eCount: %{value:,}\\u003cbr\\u003e%{percentParent:.1%} of %{parent}\\u003cbr\\u003e\"}],                        {\"template\":{\"data\":{\"barpolar\":[{\"marker\":{\"line\":{\"color\":\"rgb(234,234,242)\",\"width\":0.5},\"pattern\":{\"fillmode\":\"overlay\",\"size\":10,\"solidity\":0.2}},\"type\":\"barpolar\"}],\"bar\":[{\"error_x\":{\"color\":\"rgb(36,36,36)\"},\"error_y\":{\"color\":\"rgb(36,36,36)\"},\"marker\":{\"line\":{\"color\":\"rgb(234,234,242)\",\"width\":0.5},\"pattern\":{\"fillmode\":\"overlay\",\"size\":10,\"solidity\":0.2}},\"type\":\"bar\"}],\"carpet\":[{\"aaxis\":{\"endlinecolor\":\"rgb(36,36,36)\",\"gridcolor\":\"white\",\"linecolor\":\"white\",\"minorgridcolor\":\"white\",\"startlinecolor\":\"rgb(36,36,36)\"},\"baxis\":{\"endlinecolor\":\"rgb(36,36,36)\",\"gridcolor\":\"white\",\"linecolor\":\"white\",\"minorgridcolor\":\"white\",\"startlinecolor\":\"rgb(36,36,36)\"},\"type\":\"carpet\"}],\"choropleth\":[{\"colorbar\":{\"outlinewidth\":0,\"tickcolor\":\"rgb(36,36,36)\",\"ticklen\":8,\"ticks\":\"outside\",\"tickwidth\":2},\"type\":\"choropleth\"}],\"contourcarpet\":[{\"colorbar\":{\"outlinewidth\":0,\"tickcolor\":\"rgb(36,36,36)\",\"ticklen\":8,\"ticks\":\"outside\",\"tickwidth\":2},\"type\":\"contourcarpet\"}],\"contour\":[{\"colorbar\":{\"outlinewidth\":0,\"tickcolor\":\"rgb(36,36,36)\",\"ticklen\":8,\"ticks\":\"outside\",\"tickwidth\":2},\"colorscale\":[[0.0,\"rgb(2,4,25)\"],[0.06274509803921569,\"rgb(24,15,41)\"],[0.12549019607843137,\"rgb(47,23,57)\"],[0.18823529411764706,\"rgb(71,28,72)\"],[0.25098039215686274,\"rgb(97,30,82)\"],[0.3137254901960784,\"rgb(123,30,89)\"],[0.3764705882352941,\"rgb(150,27,91)\"],[0.4392156862745098,\"rgb(177,22,88)\"],[0.5019607843137255,\"rgb(203,26,79)\"],[0.5647058823529412,\"rgb(223,47,67)\"],[0.6274509803921569,\"rgb(236,76,61)\"],[0.6901960784313725,\"rgb(242,107,73)\"],[0.7529411764705882,\"rgb(244,135,95)\"],[0.8156862745098039,\"rgb(245,162,122)\"],[0.8784313725490196,\"rgb(246,188,153)\"],[0.9411764705882353,\"rgb(247,212,187)\"],[1.0,\"rgb(250,234,220)\"]],\"type\":\"contour\"}],\"heatmap\":[{\"colorbar\":{\"outlinewidth\":0,\"tickcolor\":\"rgb(36,36,36)\",\"ticklen\":8,\"ticks\":\"outside\",\"tickwidth\":2},\"colorscale\":[[0.0,\"rgb(2,4,25)\"],[0.06274509803921569,\"rgb(24,15,41)\"],[0.12549019607843137,\"rgb(47,23,57)\"],[0.18823529411764706,\"rgb(71,28,72)\"],[0.25098039215686274,\"rgb(97,30,82)\"],[0.3137254901960784,\"rgb(123,30,89)\"],[0.3764705882352941,\"rgb(150,27,91)\"],[0.4392156862745098,\"rgb(177,22,88)\"],[0.5019607843137255,\"rgb(203,26,79)\"],[0.5647058823529412,\"rgb(223,47,67)\"],[0.6274509803921569,\"rgb(236,76,61)\"],[0.6901960784313725,\"rgb(242,107,73)\"],[0.7529411764705882,\"rgb(244,135,95)\"],[0.8156862745098039,\"rgb(245,162,122)\"],[0.8784313725490196,\"rgb(246,188,153)\"],[0.9411764705882353,\"rgb(247,212,187)\"],[1.0,\"rgb(250,234,220)\"]],\"type\":\"heatmap\"}],\"histogram2dcontour\":[{\"colorbar\":{\"outlinewidth\":0,\"tickcolor\":\"rgb(36,36,36)\",\"ticklen\":8,\"ticks\":\"outside\",\"tickwidth\":2},\"colorscale\":[[0.0,\"rgb(2,4,25)\"],[0.06274509803921569,\"rgb(24,15,41)\"],[0.12549019607843137,\"rgb(47,23,57)\"],[0.18823529411764706,\"rgb(71,28,72)\"],[0.25098039215686274,\"rgb(97,30,82)\"],[0.3137254901960784,\"rgb(123,30,89)\"],[0.3764705882352941,\"rgb(150,27,91)\"],[0.4392156862745098,\"rgb(177,22,88)\"],[0.5019607843137255,\"rgb(203,26,79)\"],[0.5647058823529412,\"rgb(223,47,67)\"],[0.6274509803921569,\"rgb(236,76,61)\"],[0.6901960784313725,\"rgb(242,107,73)\"],[0.7529411764705882,\"rgb(244,135,95)\"],[0.8156862745098039,\"rgb(245,162,122)\"],[0.8784313725490196,\"rgb(246,188,153)\"],[0.9411764705882353,\"rgb(247,212,187)\"],[1.0,\"rgb(250,234,220)\"]],\"type\":\"histogram2dcontour\"}],\"histogram2d\":[{\"colorbar\":{\"outlinewidth\":0,\"tickcolor\":\"rgb(36,36,36)\",\"ticklen\":8,\"ticks\":\"outside\",\"tickwidth\":2},\"colorscale\":[[0.0,\"rgb(2,4,25)\"],[0.06274509803921569,\"rgb(24,15,41)\"],[0.12549019607843137,\"rgb(47,23,57)\"],[0.18823529411764706,\"rgb(71,28,72)\"],[0.25098039215686274,\"rgb(97,30,82)\"],[0.3137254901960784,\"rgb(123,30,89)\"],[0.3764705882352941,\"rgb(150,27,91)\"],[0.4392156862745098,\"rgb(177,22,88)\"],[0.5019607843137255,\"rgb(203,26,79)\"],[0.5647058823529412,\"rgb(223,47,67)\"],[0.6274509803921569,\"rgb(236,76,61)\"],[0.6901960784313725,\"rgb(242,107,73)\"],[0.7529411764705882,\"rgb(244,135,95)\"],[0.8156862745098039,\"rgb(245,162,122)\"],[0.8784313725490196,\"rgb(246,188,153)\"],[0.9411764705882353,\"rgb(247,212,187)\"],[1.0,\"rgb(250,234,220)\"]],\"type\":\"histogram2d\"}],\"histogram\":[{\"marker\":{\"pattern\":{\"fillmode\":\"overlay\",\"size\":10,\"solidity\":0.2}},\"type\":\"histogram\"}],\"mesh3d\":[{\"colorbar\":{\"outlinewidth\":0,\"tickcolor\":\"rgb(36,36,36)\",\"ticklen\":8,\"ticks\":\"outside\",\"tickwidth\":2},\"type\":\"mesh3d\"}],\"parcoords\":[{\"line\":{\"colorbar\":{\"outlinewidth\":0,\"tickcolor\":\"rgb(36,36,36)\",\"ticklen\":8,\"ticks\":\"outside\",\"tickwidth\":2}},\"type\":\"parcoords\"}],\"pie\":[{\"automargin\":true,\"type\":\"pie\"}],\"scatter3d\":[{\"line\":{\"colorbar\":{\"outlinewidth\":0,\"tickcolor\":\"rgb(36,36,36)\",\"ticklen\":8,\"ticks\":\"outside\",\"tickwidth\":2}},\"marker\":{\"colorbar\":{\"outlinewidth\":0,\"tickcolor\":\"rgb(36,36,36)\",\"ticklen\":8,\"ticks\":\"outside\",\"tickwidth\":2}},\"type\":\"scatter3d\"}],\"scattercarpet\":[{\"marker\":{\"colorbar\":{\"outlinewidth\":0,\"tickcolor\":\"rgb(36,36,36)\",\"ticklen\":8,\"ticks\":\"outside\",\"tickwidth\":2}},\"type\":\"scattercarpet\"}],\"scattergeo\":[{\"marker\":{\"colorbar\":{\"outlinewidth\":0,\"tickcolor\":\"rgb(36,36,36)\",\"ticklen\":8,\"ticks\":\"outside\",\"tickwidth\":2}},\"type\":\"scattergeo\"}],\"scattergl\":[{\"marker\":{\"colorbar\":{\"outlinewidth\":0,\"tickcolor\":\"rgb(36,36,36)\",\"ticklen\":8,\"ticks\":\"outside\",\"tickwidth\":2}},\"type\":\"scattergl\"}],\"scattermapbox\":[{\"marker\":{\"colorbar\":{\"outlinewidth\":0,\"tickcolor\":\"rgb(36,36,36)\",\"ticklen\":8,\"ticks\":\"outside\",\"tickwidth\":2}},\"type\":\"scattermapbox\"}],\"scattermap\":[{\"marker\":{\"colorbar\":{\"outlinewidth\":0,\"tickcolor\":\"rgb(36,36,36)\",\"ticklen\":8,\"ticks\":\"outside\",\"tickwidth\":2}},\"type\":\"scattermap\"}],\"scatterpolargl\":[{\"marker\":{\"colorbar\":{\"outlinewidth\":0,\"tickcolor\":\"rgb(36,36,36)\",\"ticklen\":8,\"ticks\":\"outside\",\"tickwidth\":2}},\"type\":\"scatterpolargl\"}],\"scatterpolar\":[{\"marker\":{\"colorbar\":{\"outlinewidth\":0,\"tickcolor\":\"rgb(36,36,36)\",\"ticklen\":8,\"ticks\":\"outside\",\"tickwidth\":2}},\"type\":\"scatterpolar\"}],\"scatter\":[{\"fillpattern\":{\"fillmode\":\"overlay\",\"size\":10,\"solidity\":0.2},\"type\":\"scatter\"}],\"scatterternary\":[{\"marker\":{\"colorbar\":{\"outlinewidth\":0,\"tickcolor\":\"rgb(36,36,36)\",\"ticklen\":8,\"ticks\":\"outside\",\"tickwidth\":2}},\"type\":\"scatterternary\"}],\"surface\":[{\"colorbar\":{\"outlinewidth\":0,\"tickcolor\":\"rgb(36,36,36)\",\"ticklen\":8,\"ticks\":\"outside\",\"tickwidth\":2},\"colorscale\":[[0.0,\"rgb(2,4,25)\"],[0.06274509803921569,\"rgb(24,15,41)\"],[0.12549019607843137,\"rgb(47,23,57)\"],[0.18823529411764706,\"rgb(71,28,72)\"],[0.25098039215686274,\"rgb(97,30,82)\"],[0.3137254901960784,\"rgb(123,30,89)\"],[0.3764705882352941,\"rgb(150,27,91)\"],[0.4392156862745098,\"rgb(177,22,88)\"],[0.5019607843137255,\"rgb(203,26,79)\"],[0.5647058823529412,\"rgb(223,47,67)\"],[0.6274509803921569,\"rgb(236,76,61)\"],[0.6901960784313725,\"rgb(242,107,73)\"],[0.7529411764705882,\"rgb(244,135,95)\"],[0.8156862745098039,\"rgb(245,162,122)\"],[0.8784313725490196,\"rgb(246,188,153)\"],[0.9411764705882353,\"rgb(247,212,187)\"],[1.0,\"rgb(250,234,220)\"]],\"type\":\"surface\"}],\"table\":[{\"cells\":{\"fill\":{\"color\":\"rgb(231,231,240)\"},\"line\":{\"color\":\"white\"}},\"header\":{\"fill\":{\"color\":\"rgb(183,183,191)\"},\"line\":{\"color\":\"white\"}},\"type\":\"table\"}]},\"layout\":{\"annotationdefaults\":{\"arrowcolor\":\"rgb(67,103,167)\"},\"autotypenumbers\":\"strict\",\"coloraxis\":{\"colorbar\":{\"outlinewidth\":0,\"tickcolor\":\"rgb(36,36,36)\",\"ticklen\":8,\"ticks\":\"outside\",\"tickwidth\":2}},\"colorscale\":{\"sequential\":[[0.0,\"rgb(2,4,25)\"],[0.06274509803921569,\"rgb(24,15,41)\"],[0.12549019607843137,\"rgb(47,23,57)\"],[0.18823529411764706,\"rgb(71,28,72)\"],[0.25098039215686274,\"rgb(97,30,82)\"],[0.3137254901960784,\"rgb(123,30,89)\"],[0.3764705882352941,\"rgb(150,27,91)\"],[0.4392156862745098,\"rgb(177,22,88)\"],[0.5019607843137255,\"rgb(203,26,79)\"],[0.5647058823529412,\"rgb(223,47,67)\"],[0.6274509803921569,\"rgb(236,76,61)\"],[0.6901960784313725,\"rgb(242,107,73)\"],[0.7529411764705882,\"rgb(244,135,95)\"],[0.8156862745098039,\"rgb(245,162,122)\"],[0.8784313725490196,\"rgb(246,188,153)\"],[0.9411764705882353,\"rgb(247,212,187)\"],[1.0,\"rgb(250,234,220)\"]],\"sequentialminus\":[[0.0,\"rgb(2,4,25)\"],[0.06274509803921569,\"rgb(24,15,41)\"],[0.12549019607843137,\"rgb(47,23,57)\"],[0.18823529411764706,\"rgb(71,28,72)\"],[0.25098039215686274,\"rgb(97,30,82)\"],[0.3137254901960784,\"rgb(123,30,89)\"],[0.3764705882352941,\"rgb(150,27,91)\"],[0.4392156862745098,\"rgb(177,22,88)\"],[0.5019607843137255,\"rgb(203,26,79)\"],[0.5647058823529412,\"rgb(223,47,67)\"],[0.6274509803921569,\"rgb(236,76,61)\"],[0.6901960784313725,\"rgb(242,107,73)\"],[0.7529411764705882,\"rgb(244,135,95)\"],[0.8156862745098039,\"rgb(245,162,122)\"],[0.8784313725490196,\"rgb(246,188,153)\"],[0.9411764705882353,\"rgb(247,212,187)\"],[1.0,\"rgb(250,234,220)\"]]},\"colorway\":[\"rgb(76,114,176)\",\"rgb(221,132,82)\",\"rgb(85,168,104)\",\"rgb(196,78,82)\",\"rgb(129,114,179)\",\"rgb(147,120,96)\",\"rgb(218,139,195)\",\"rgb(140,140,140)\",\"rgb(204,185,116)\",\"rgb(100,181,205)\"],\"font\":{\"color\":\"rgb(36,36,36)\"},\"geo\":{\"bgcolor\":\"white\",\"lakecolor\":\"white\",\"landcolor\":\"rgb(234,234,242)\",\"showlakes\":true,\"showland\":true,\"subunitcolor\":\"white\"},\"hoverlabel\":{\"align\":\"left\"},\"hovermode\":\"closest\",\"paper_bgcolor\":\"white\",\"plot_bgcolor\":\"rgb(234,234,242)\",\"polar\":{\"angularaxis\":{\"gridcolor\":\"white\",\"linecolor\":\"white\",\"showgrid\":true,\"ticks\":\"\"},\"bgcolor\":\"rgb(234,234,242)\",\"radialaxis\":{\"gridcolor\":\"white\",\"linecolor\":\"white\",\"showgrid\":true,\"ticks\":\"\"}},\"scene\":{\"xaxis\":{\"backgroundcolor\":\"rgb(234,234,242)\",\"gridcolor\":\"white\",\"gridwidth\":2,\"linecolor\":\"white\",\"showbackground\":true,\"showgrid\":true,\"ticks\":\"\",\"zerolinecolor\":\"white\"},\"yaxis\":{\"backgroundcolor\":\"rgb(234,234,242)\",\"gridcolor\":\"white\",\"gridwidth\":2,\"linecolor\":\"white\",\"showbackground\":true,\"showgrid\":true,\"ticks\":\"\",\"zerolinecolor\":\"white\"},\"zaxis\":{\"backgroundcolor\":\"rgb(234,234,242)\",\"gridcolor\":\"white\",\"gridwidth\":2,\"linecolor\":\"white\",\"showbackground\":true,\"showgrid\":true,\"ticks\":\"\",\"zerolinecolor\":\"white\"}},\"shapedefaults\":{\"fillcolor\":\"rgb(67,103,167)\",\"line\":{\"width\":0},\"opacity\":0.5},\"ternary\":{\"aaxis\":{\"gridcolor\":\"white\",\"linecolor\":\"white\",\"showgrid\":true,\"ticks\":\"\"},\"baxis\":{\"gridcolor\":\"white\",\"linecolor\":\"white\",\"showgrid\":true,\"ticks\":\"\"},\"bgcolor\":\"rgb(234,234,242)\",\"caxis\":{\"gridcolor\":\"white\",\"linecolor\":\"white\",\"showgrid\":true,\"ticks\":\"\"}},\"xaxis\":{\"automargin\":true,\"gridcolor\":\"white\",\"linecolor\":\"white\",\"showgrid\":true,\"ticks\":\"\",\"title\":{\"standoff\":15},\"zerolinecolor\":\"white\"},\"yaxis\":{\"automargin\":true,\"gridcolor\":\"white\",\"linecolor\":\"white\",\"showgrid\":true,\"ticks\":\"\",\"title\":{\"standoff\":15},\"zerolinecolor\":\"white\"}}},\"legend\":{\"tracegroupgap\":0},\"title\":{\"text\":\"Status Codes\"},\"height\":600},                        {\"responsive\": true}                    ).then(function(){\n",
       "                            \n",
       "var gd = document.getElementById('def6db9d-8aa9-4eb3-8648-3d5dc966ed76');\n",
       "var x = new MutationObserver(function (mutations, observer) {{\n",
       "        var display = window.getComputedStyle(gd).display;\n",
       "        if (!display || display === 'none') {{\n",
       "            console.log([gd, 'removed!']);\n",
       "            Plotly.purge(gd);\n",
       "            observer.disconnect();\n",
       "        }}\n",
       "}});\n",
       "\n",
       "// Listen for the removal of the full notebook cells\n",
       "var notebookContainer = gd.closest('#notebook-container');\n",
       "if (notebookContainer) {{\n",
       "    x.observe(notebookContainer, {childList: true});\n",
       "}}\n",
       "\n",
       "// Listen for the clearing of the current output cell\n",
       "var outputEl = gd.closest('.output');\n",
       "if (outputEl) {{\n",
       "    x.observe(outputEl, {childList: true});\n",
       "}}\n",
       "\n",
       "                        })                };            </script>        </div>"
      ]
     },
     "metadata": {},
     "output_type": "display_data"
    }
   ],
   "source": [
    "status_codes(codes[\"status\"], template=\"seaborn\")"
   ]
  },
  {
   "cell_type": "code",
   "execution_count": null,
   "id": "c8ff3a87-0e86-4970-8516-2ec6d612d23c",
   "metadata": {},
   "outputs": [
    {
     "data": {
      "text/html": [
       "<div>            <script src=\"https://cdnjs.cloudflare.com/ajax/libs/mathjax/2.7.5/MathJax.js?config=TeX-AMS-MML_SVG\"></script><script type=\"text/javascript\">if (window.MathJax && window.MathJax.Hub && window.MathJax.Hub.Config) {window.MathJax.Hub.Config({SVG: {font: \"STIX-Web\"}});}</script>                <script type=\"text/javascript\">window.PlotlyConfig = {MathJaxConfig: 'local'};</script>\n",
       "        <script charset=\"utf-8\" src=\"https://cdn.plot.ly/plotly-3.0.1.min.js\" integrity=\"sha256-oy6Be7Eh6eiQFs5M7oXuPxxm9qbJXEtTpfSI93dW16Q=\" crossorigin=\"anonymous\"></script>                <div id=\"0fa641a6-d7b2-4b26-b6c5-eb5c96d6dc66\" class=\"plotly-graph-div\" style=\"height:600px; width:100%;\"></div>            <script type=\"text/javascript\">                window.PLOTLYENV=window.PLOTLYENV || {};                                if (document.getElementById(\"0fa641a6-d7b2-4b26-b6c5-eb5c96d6dc66\")) {                    Plotly.newPlot(                        \"0fa641a6-d7b2-4b26-b6c5-eb5c96d6dc66\",                        [{\"branchvalues\":\"total\",\"customdata\":[[\"OK\"],[\"Partial Content\"],[\"Not Modified\"],[\"Moved Permanently\"],[\"Not Found\"],[\"Found\"],[\"Forbidden\"],[\"Service Unavailable\"],[\"Unauthorized\"],[\"Too Many Requests\"],[\"Method Not Allowed\"],[\"Created\"],[\"Conflict\"],[\"Bad Request\"],[\"Internal Server Error\"],[\"See Other\"],[\"(?)\"],[\"(?)\"],[\"(?)\"],[\"(?)\"],[\"(?)\"]],\"domain\":{\"x\":[0.0,1.0],\"y\":[0.0,1.0]},\"hovertemplate\":\"\\u003cb\\u003e%{label} \\u003c\\u002fb\\u003e\\u003cbr\\u003e\\u003cbr\\u003eStatus code: %{label} %{customdata[0]}\\u003cbr\\u003eCount: %{value:,}\\u003cbr\\u003e%{percentParent:.1%} of %{parent}\\u003cbr\\u003e\",\"hovertext\":[\"200\",\"200\",\"300\",\"300\",\"400\",\"300\",\"400\",\"500\",\"400\",\"400\",\"400\",\"200\",\"400\",\"400\",\"500\",\"300\",\"200\",\"300\",\"400\",\"500\",\"(?)\"],\"ids\":[\"Status codes\\u002f200\\u002f200\",\"Status codes\\u002f200\\u002f206\",\"Status codes\\u002f300\\u002f304\",\"Status codes\\u002f300\\u002f301\",\"Status codes\\u002f400\\u002f404\",\"Status codes\\u002f300\\u002f302\",\"Status codes\\u002f400\\u002f403\",\"Status codes\\u002f500\\u002f503\",\"Status codes\\u002f400\\u002f401\",\"Status codes\\u002f400\\u002f429\",\"Status codes\\u002f400\\u002f405\",\"Status codes\\u002f200\\u002f201\",\"Status codes\\u002f400\\u002f409\",\"Status codes\\u002f400\\u002f400\",\"Status codes\\u002f500\\u002f500\",\"Status codes\\u002f300\\u002f303\",\"Status codes\\u002f200\",\"Status codes\\u002f300\",\"Status codes\\u002f400\",\"Status codes\\u002f500\",\"Status codes\"],\"labels\":[\"200\",\"206\",\"304\",\"301\",\"404\",\"302\",\"403\",\"503\",\"401\",\"429\",\"405\",\"201\",\"409\",\"400\",\"500\",\"303\",\"200\",\"300\",\"400\",\"500\",\"Status codes\"],\"maxdepth\":2,\"name\":\"\",\"parents\":[\"Status codes\\u002f200\",\"Status codes\\u002f200\",\"Status codes\\u002f300\",\"Status codes\\u002f300\",\"Status codes\\u002f400\",\"Status codes\\u002f300\",\"Status codes\\u002f400\",\"Status codes\\u002f500\",\"Status codes\\u002f400\",\"Status codes\\u002f400\",\"Status codes\\u002f400\",\"Status codes\\u002f200\",\"Status codes\\u002f400\",\"Status codes\\u002f400\",\"Status codes\\u002f500\",\"Status codes\\u002f300\",\"Status codes\",\"Status codes\",\"Status codes\",\"Status codes\",\"\"],\"values\":{\"dtype\":\"f8\",\"bdata\":\"AAAAAGSiFUEAAAAAgHLkQAAAAAAAi7pAAAAAAACLsEAAAAAAADKtQAAAAAAAJJpAAAAAAAAokEAAAAAAAMBwQAAAAAAAwF5AAAAAAAAAT0AAAAAAAABKQAAAAAAAgEFAAAAAAAAAOUAAAAAAAAA3QAAAAAAAABxAAAAAAAAA8D8AAAAAQDEYQQAAAAAA0MhAAAAAAADAs0AAAAAAADBxQAAAAAAMSxlB\"},\"type\":\"treemap\",\"marker\":{\"line\":{\"width\":0.01},\"pad\":{\"b\":0,\"l\":0,\"r\":0,\"t\":0}},\"texttemplate\":\"\\u003cb\\u003e%{label} \\u003c\\u002fb\\u003e\\u003cbr\\u003e\\u003cbr\\u003eStatus code: %{label} %{customdata[0]}\\u003cbr\\u003eCount: %{value:,}\\u003cbr\\u003e%{percentParent:.1%} of %{parent}\\u003cbr\\u003e\"}],                        {\"template\":{\"data\":{\"barpolar\":[{\"marker\":{\"line\":{\"color\":\"rgb(17,17,17)\",\"width\":0.5},\"pattern\":{\"fillmode\":\"overlay\",\"size\":10,\"solidity\":0.2}},\"type\":\"barpolar\"}],\"bar\":[{\"error_x\":{\"color\":\"#f2f5fa\"},\"error_y\":{\"color\":\"#f2f5fa\"},\"marker\":{\"line\":{\"color\":\"rgb(17,17,17)\",\"width\":0.5},\"pattern\":{\"fillmode\":\"overlay\",\"size\":10,\"solidity\":0.2}},\"type\":\"bar\"}],\"carpet\":[{\"aaxis\":{\"endlinecolor\":\"#A2B1C6\",\"gridcolor\":\"#506784\",\"linecolor\":\"#506784\",\"minorgridcolor\":\"#506784\",\"startlinecolor\":\"#A2B1C6\"},\"baxis\":{\"endlinecolor\":\"#A2B1C6\",\"gridcolor\":\"#506784\",\"linecolor\":\"#506784\",\"minorgridcolor\":\"#506784\",\"startlinecolor\":\"#A2B1C6\"},\"type\":\"carpet\"}],\"choropleth\":[{\"colorbar\":{\"outlinewidth\":0,\"ticks\":\"\"},\"type\":\"choropleth\"}],\"contourcarpet\":[{\"colorbar\":{\"outlinewidth\":0,\"ticks\":\"\"},\"type\":\"contourcarpet\"}],\"contour\":[{\"colorbar\":{\"outlinewidth\":0,\"ticks\":\"\"},\"colorscale\":[[0.0,\"#0d0887\"],[0.1111111111111111,\"#46039f\"],[0.2222222222222222,\"#7201a8\"],[0.3333333333333333,\"#9c179e\"],[0.4444444444444444,\"#bd3786\"],[0.5555555555555556,\"#d8576b\"],[0.6666666666666666,\"#ed7953\"],[0.7777777777777778,\"#fb9f3a\"],[0.8888888888888888,\"#fdca26\"],[1.0,\"#f0f921\"]],\"type\":\"contour\"}],\"heatmap\":[{\"colorbar\":{\"outlinewidth\":0,\"ticks\":\"\"},\"colorscale\":[[0.0,\"#0d0887\"],[0.1111111111111111,\"#46039f\"],[0.2222222222222222,\"#7201a8\"],[0.3333333333333333,\"#9c179e\"],[0.4444444444444444,\"#bd3786\"],[0.5555555555555556,\"#d8576b\"],[0.6666666666666666,\"#ed7953\"],[0.7777777777777778,\"#fb9f3a\"],[0.8888888888888888,\"#fdca26\"],[1.0,\"#f0f921\"]],\"type\":\"heatmap\"}],\"histogram2dcontour\":[{\"colorbar\":{\"outlinewidth\":0,\"ticks\":\"\"},\"colorscale\":[[0.0,\"#0d0887\"],[0.1111111111111111,\"#46039f\"],[0.2222222222222222,\"#7201a8\"],[0.3333333333333333,\"#9c179e\"],[0.4444444444444444,\"#bd3786\"],[0.5555555555555556,\"#d8576b\"],[0.6666666666666666,\"#ed7953\"],[0.7777777777777778,\"#fb9f3a\"],[0.8888888888888888,\"#fdca26\"],[1.0,\"#f0f921\"]],\"type\":\"histogram2dcontour\"}],\"histogram2d\":[{\"colorbar\":{\"outlinewidth\":0,\"ticks\":\"\"},\"colorscale\":[[0.0,\"#0d0887\"],[0.1111111111111111,\"#46039f\"],[0.2222222222222222,\"#7201a8\"],[0.3333333333333333,\"#9c179e\"],[0.4444444444444444,\"#bd3786\"],[0.5555555555555556,\"#d8576b\"],[0.6666666666666666,\"#ed7953\"],[0.7777777777777778,\"#fb9f3a\"],[0.8888888888888888,\"#fdca26\"],[1.0,\"#f0f921\"]],\"type\":\"histogram2d\"}],\"histogram\":[{\"marker\":{\"pattern\":{\"fillmode\":\"overlay\",\"size\":10,\"solidity\":0.2}},\"type\":\"histogram\"}],\"mesh3d\":[{\"colorbar\":{\"outlinewidth\":0,\"ticks\":\"\"},\"type\":\"mesh3d\"}],\"parcoords\":[{\"line\":{\"colorbar\":{\"outlinewidth\":0,\"ticks\":\"\"}},\"type\":\"parcoords\"}],\"pie\":[{\"automargin\":true,\"type\":\"pie\"}],\"scatter3d\":[{\"line\":{\"colorbar\":{\"outlinewidth\":0,\"ticks\":\"\"}},\"marker\":{\"colorbar\":{\"outlinewidth\":0,\"ticks\":\"\"}},\"type\":\"scatter3d\"}],\"scattercarpet\":[{\"marker\":{\"colorbar\":{\"outlinewidth\":0,\"ticks\":\"\"}},\"type\":\"scattercarpet\"}],\"scattergeo\":[{\"marker\":{\"colorbar\":{\"outlinewidth\":0,\"ticks\":\"\"}},\"type\":\"scattergeo\"}],\"scattergl\":[{\"marker\":{\"line\":{\"color\":\"#283442\"}},\"type\":\"scattergl\"}],\"scattermapbox\":[{\"marker\":{\"colorbar\":{\"outlinewidth\":0,\"ticks\":\"\"}},\"type\":\"scattermapbox\"}],\"scattermap\":[{\"marker\":{\"colorbar\":{\"outlinewidth\":0,\"ticks\":\"\"}},\"type\":\"scattermap\"}],\"scatterpolargl\":[{\"marker\":{\"colorbar\":{\"outlinewidth\":0,\"ticks\":\"\"}},\"type\":\"scatterpolargl\"}],\"scatterpolar\":[{\"marker\":{\"colorbar\":{\"outlinewidth\":0,\"ticks\":\"\"}},\"type\":\"scatterpolar\"}],\"scatter\":[{\"marker\":{\"line\":{\"color\":\"#283442\"}},\"type\":\"scatter\"}],\"scatterternary\":[{\"marker\":{\"colorbar\":{\"outlinewidth\":0,\"ticks\":\"\"}},\"type\":\"scatterternary\"}],\"surface\":[{\"colorbar\":{\"outlinewidth\":0,\"ticks\":\"\"},\"colorscale\":[[0.0,\"#0d0887\"],[0.1111111111111111,\"#46039f\"],[0.2222222222222222,\"#7201a8\"],[0.3333333333333333,\"#9c179e\"],[0.4444444444444444,\"#bd3786\"],[0.5555555555555556,\"#d8576b\"],[0.6666666666666666,\"#ed7953\"],[0.7777777777777778,\"#fb9f3a\"],[0.8888888888888888,\"#fdca26\"],[1.0,\"#f0f921\"]],\"type\":\"surface\"}],\"table\":[{\"cells\":{\"fill\":{\"color\":\"#506784\"},\"line\":{\"color\":\"rgb(17,17,17)\"}},\"header\":{\"fill\":{\"color\":\"#2a3f5f\"},\"line\":{\"color\":\"rgb(17,17,17)\"}},\"type\":\"table\"}]},\"layout\":{\"annotationdefaults\":{\"arrowcolor\":\"#f2f5fa\",\"arrowhead\":0,\"arrowwidth\":1},\"autotypenumbers\":\"strict\",\"coloraxis\":{\"colorbar\":{\"outlinewidth\":0,\"ticks\":\"\"}},\"colorscale\":{\"diverging\":[[0,\"#8e0152\"],[0.1,\"#c51b7d\"],[0.2,\"#de77ae\"],[0.3,\"#f1b6da\"],[0.4,\"#fde0ef\"],[0.5,\"#f7f7f7\"],[0.6,\"#e6f5d0\"],[0.7,\"#b8e186\"],[0.8,\"#7fbc41\"],[0.9,\"#4d9221\"],[1,\"#276419\"]],\"sequential\":[[0.0,\"#0d0887\"],[0.1111111111111111,\"#46039f\"],[0.2222222222222222,\"#7201a8\"],[0.3333333333333333,\"#9c179e\"],[0.4444444444444444,\"#bd3786\"],[0.5555555555555556,\"#d8576b\"],[0.6666666666666666,\"#ed7953\"],[0.7777777777777778,\"#fb9f3a\"],[0.8888888888888888,\"#fdca26\"],[1.0,\"#f0f921\"]],\"sequentialminus\":[[0.0,\"#0d0887\"],[0.1111111111111111,\"#46039f\"],[0.2222222222222222,\"#7201a8\"],[0.3333333333333333,\"#9c179e\"],[0.4444444444444444,\"#bd3786\"],[0.5555555555555556,\"#d8576b\"],[0.6666666666666666,\"#ed7953\"],[0.7777777777777778,\"#fb9f3a\"],[0.8888888888888888,\"#fdca26\"],[1.0,\"#f0f921\"]]},\"colorway\":[\"#636efa\",\"#EF553B\",\"#00cc96\",\"#ab63fa\",\"#FFA15A\",\"#19d3f3\",\"#FF6692\",\"#B6E880\",\"#FF97FF\",\"#FECB52\"],\"font\":{\"color\":\"#f2f5fa\"},\"geo\":{\"bgcolor\":\"rgb(17,17,17)\",\"lakecolor\":\"rgb(17,17,17)\",\"landcolor\":\"rgb(17,17,17)\",\"showlakes\":true,\"showland\":true,\"subunitcolor\":\"#506784\"},\"hoverlabel\":{\"align\":\"left\"},\"hovermode\":\"closest\",\"mapbox\":{\"style\":\"dark\"},\"paper_bgcolor\":\"rgb(17,17,17)\",\"plot_bgcolor\":\"rgb(17,17,17)\",\"polar\":{\"angularaxis\":{\"gridcolor\":\"#506784\",\"linecolor\":\"#506784\",\"ticks\":\"\"},\"bgcolor\":\"rgb(17,17,17)\",\"radialaxis\":{\"gridcolor\":\"#506784\",\"linecolor\":\"#506784\",\"ticks\":\"\"}},\"scene\":{\"xaxis\":{\"backgroundcolor\":\"rgb(17,17,17)\",\"gridcolor\":\"#506784\",\"gridwidth\":2,\"linecolor\":\"#506784\",\"showbackground\":true,\"ticks\":\"\",\"zerolinecolor\":\"#C8D4E3\"},\"yaxis\":{\"backgroundcolor\":\"rgb(17,17,17)\",\"gridcolor\":\"#506784\",\"gridwidth\":2,\"linecolor\":\"#506784\",\"showbackground\":true,\"ticks\":\"\",\"zerolinecolor\":\"#C8D4E3\"},\"zaxis\":{\"backgroundcolor\":\"rgb(17,17,17)\",\"gridcolor\":\"#506784\",\"gridwidth\":2,\"linecolor\":\"#506784\",\"showbackground\":true,\"ticks\":\"\",\"zerolinecolor\":\"#C8D4E3\"}},\"shapedefaults\":{\"line\":{\"color\":\"#f2f5fa\"}},\"sliderdefaults\":{\"bgcolor\":\"#C8D4E3\",\"bordercolor\":\"rgb(17,17,17)\",\"borderwidth\":1,\"tickwidth\":0},\"ternary\":{\"aaxis\":{\"gridcolor\":\"#506784\",\"linecolor\":\"#506784\",\"ticks\":\"\"},\"baxis\":{\"gridcolor\":\"#506784\",\"linecolor\":\"#506784\",\"ticks\":\"\"},\"bgcolor\":\"rgb(17,17,17)\",\"caxis\":{\"gridcolor\":\"#506784\",\"linecolor\":\"#506784\",\"ticks\":\"\"}},\"title\":{\"x\":0.05},\"updatemenudefaults\":{\"bgcolor\":\"#506784\",\"borderwidth\":0},\"xaxis\":{\"automargin\":true,\"gridcolor\":\"#283442\",\"linecolor\":\"#506784\",\"ticks\":\"\",\"title\":{\"standoff\":15},\"zerolinecolor\":\"#283442\",\"zerolinewidth\":2},\"yaxis\":{\"automargin\":true,\"gridcolor\":\"#283442\",\"linecolor\":\"#506784\",\"ticks\":\"\",\"title\":{\"standoff\":15},\"zerolinecolor\":\"#283442\",\"zerolinewidth\":2}}},\"legend\":{\"tracegroupgap\":0},\"title\":{\"text\":\"Status Codes\"},\"height\":600},                        {\"responsive\": true}                    ).then(function(){\n",
       "                            \n",
       "var gd = document.getElementById('0fa641a6-d7b2-4b26-b6c5-eb5c96d6dc66');\n",
       "var x = new MutationObserver(function (mutations, observer) {{\n",
       "        var display = window.getComputedStyle(gd).display;\n",
       "        if (!display || display === 'none') {{\n",
       "            console.log([gd, 'removed!']);\n",
       "            Plotly.purge(gd);\n",
       "            observer.disconnect();\n",
       "        }}\n",
       "}});\n",
       "\n",
       "// Listen for the removal of the full notebook cells\n",
       "var notebookContainer = gd.closest('#notebook-container');\n",
       "if (notebookContainer) {{\n",
       "    x.observe(notebookContainer, {childList: true});\n",
       "}}\n",
       "\n",
       "// Listen for the clearing of the current output cell\n",
       "var outputEl = gd.closest('.output');\n",
       "if (outputEl) {{\n",
       "    x.observe(outputEl, {childList: true});\n",
       "}}\n",
       "\n",
       "                        })                };            </script>        </div>"
      ]
     },
     "metadata": {},
     "output_type": "display_data"
    }
   ],
   "source": [
    "status_codes(codes[\"status\"], template=\"plotly_dark\")"
   ]
  },
  {
   "cell_type": "markdown",
   "id": "9f40c190-b156-4ed5-885f-278107cf7f85",
   "metadata": {},
   "source": [
    "## Change the dimensions of the charts with `width` and `height`"
   ]
  },
  {
   "cell_type": "code",
   "execution_count": null,
   "id": "ee7831d5-98be-42ae-b78a-471e5c74b722",
   "metadata": {},
   "outputs": [
    {
     "data": {
      "text/html": [
       "<div>            <script src=\"https://cdnjs.cloudflare.com/ajax/libs/mathjax/2.7.5/MathJax.js?config=TeX-AMS-MML_SVG\"></script><script type=\"text/javascript\">if (window.MathJax && window.MathJax.Hub && window.MathJax.Hub.Config) {window.MathJax.Hub.Config({SVG: {font: \"STIX-Web\"}});}</script>                <script type=\"text/javascript\">window.PlotlyConfig = {MathJaxConfig: 'local'};</script>\n",
       "        <script charset=\"utf-8\" src=\"https://cdn.plot.ly/plotly-3.0.1.min.js\" integrity=\"sha256-oy6Be7Eh6eiQFs5M7oXuPxxm9qbJXEtTpfSI93dW16Q=\" crossorigin=\"anonymous\"></script>                <div id=\"d16cb3bf-b8c4-40f2-bef5-7d369b8621d5\" class=\"plotly-graph-div\" style=\"height:700px; width:700px;\"></div>            <script type=\"text/javascript\">                window.PLOTLYENV=window.PLOTLYENV || {};                                if (document.getElementById(\"d16cb3bf-b8c4-40f2-bef5-7d369b8621d5\")) {                    Plotly.newPlot(                        \"d16cb3bf-b8c4-40f2-bef5-7d369b8621d5\",                        [{\"branchvalues\":\"total\",\"customdata\":[[\"OK\"],[\"Partial Content\"],[\"Not Modified\"],[\"Moved Permanently\"],[\"Not Found\"],[\"Found\"],[\"Forbidden\"],[\"Service Unavailable\"],[\"Unauthorized\"],[\"Too Many Requests\"],[\"Method Not Allowed\"],[\"Created\"],[\"Conflict\"],[\"Bad Request\"],[\"Internal Server Error\"],[\"See Other\"],[\"(?)\"],[\"(?)\"],[\"(?)\"],[\"(?)\"],[\"(?)\"]],\"domain\":{\"x\":[0.0,1.0],\"y\":[0.0,1.0]},\"hovertemplate\":\"\\u003cb\\u003e%{label} \\u003c\\u002fb\\u003e\\u003cbr\\u003e\\u003cbr\\u003eStatus code: %{label} %{customdata[0]}\\u003cbr\\u003eCount: %{value:,}\\u003cbr\\u003e%{percentParent:.1%} of %{parent}\\u003cbr\\u003e\",\"hovertext\":[\"200\",\"200\",\"300\",\"300\",\"400\",\"300\",\"400\",\"500\",\"400\",\"400\",\"400\",\"200\",\"400\",\"400\",\"500\",\"300\",\"200\",\"300\",\"400\",\"500\",\"(?)\"],\"ids\":[\"Status codes\\u002f200\\u002f200\",\"Status codes\\u002f200\\u002f206\",\"Status codes\\u002f300\\u002f304\",\"Status codes\\u002f300\\u002f301\",\"Status codes\\u002f400\\u002f404\",\"Status codes\\u002f300\\u002f302\",\"Status codes\\u002f400\\u002f403\",\"Status codes\\u002f500\\u002f503\",\"Status codes\\u002f400\\u002f401\",\"Status codes\\u002f400\\u002f429\",\"Status codes\\u002f400\\u002f405\",\"Status codes\\u002f200\\u002f201\",\"Status codes\\u002f400\\u002f409\",\"Status codes\\u002f400\\u002f400\",\"Status codes\\u002f500\\u002f500\",\"Status codes\\u002f300\\u002f303\",\"Status codes\\u002f200\",\"Status codes\\u002f300\",\"Status codes\\u002f400\",\"Status codes\\u002f500\",\"Status codes\"],\"labels\":[\"200\",\"206\",\"304\",\"301\",\"404\",\"302\",\"403\",\"503\",\"401\",\"429\",\"405\",\"201\",\"409\",\"400\",\"500\",\"303\",\"200\",\"300\",\"400\",\"500\",\"Status codes\"],\"maxdepth\":2,\"name\":\"\",\"parents\":[\"Status codes\\u002f200\",\"Status codes\\u002f200\",\"Status codes\\u002f300\",\"Status codes\\u002f300\",\"Status codes\\u002f400\",\"Status codes\\u002f300\",\"Status codes\\u002f400\",\"Status codes\\u002f500\",\"Status codes\\u002f400\",\"Status codes\\u002f400\",\"Status codes\\u002f400\",\"Status codes\\u002f200\",\"Status codes\\u002f400\",\"Status codes\\u002f400\",\"Status codes\\u002f500\",\"Status codes\\u002f300\",\"Status codes\",\"Status codes\",\"Status codes\",\"Status codes\",\"\"],\"values\":{\"dtype\":\"f8\",\"bdata\":\"AAAAAGSiFUEAAAAAgHLkQAAAAAAAi7pAAAAAAACLsEAAAAAAADKtQAAAAAAAJJpAAAAAAAAokEAAAAAAAMBwQAAAAAAAwF5AAAAAAAAAT0AAAAAAAABKQAAAAAAAgEFAAAAAAAAAOUAAAAAAAAA3QAAAAAAAABxAAAAAAAAA8D8AAAAAQDEYQQAAAAAA0MhAAAAAAADAs0AAAAAAADBxQAAAAAAMSxlB\"},\"type\":\"treemap\",\"marker\":{\"line\":{\"width\":0.01},\"pad\":{\"b\":0,\"l\":0,\"r\":0,\"t\":0}},\"texttemplate\":\"\\u003cb\\u003e%{label} \\u003c\\u002fb\\u003e\\u003cbr\\u003e\\u003cbr\\u003eStatus code: %{label} %{customdata[0]}\\u003cbr\\u003eCount: %{value:,}\\u003cbr\\u003e%{percentParent:.1%} of %{parent}\\u003cbr\\u003e\"}],                        {\"template\":{\"data\":{\"scatter\":[{\"type\":\"scatter\"}]}},\"legend\":{\"tracegroupgap\":0},\"title\":{\"subtitle\":{\"text\":\"example.com\"},\"text\":\"Status Codes\"},\"height\":700,\"width\":700},                        {\"responsive\": true}                    ).then(function(){\n",
       "                            \n",
       "var gd = document.getElementById('d16cb3bf-b8c4-40f2-bef5-7d369b8621d5');\n",
       "var x = new MutationObserver(function (mutations, observer) {{\n",
       "        var display = window.getComputedStyle(gd).display;\n",
       "        if (!display || display === 'none') {{\n",
       "            console.log([gd, 'removed!']);\n",
       "            Plotly.purge(gd);\n",
       "            observer.disconnect();\n",
       "        }}\n",
       "}});\n",
       "\n",
       "// Listen for the removal of the full notebook cells\n",
       "var notebookContainer = gd.closest('#notebook-container');\n",
       "if (notebookContainer) {{\n",
       "    x.observe(notebookContainer, {childList: true});\n",
       "}}\n",
       "\n",
       "// Listen for the clearing of the current output cell\n",
       "var outputEl = gd.closest('.output');\n",
       "if (outputEl) {{\n",
       "    x.observe(outputEl, {childList: true});\n",
       "}}\n",
       "\n",
       "                        })                };            </script>        </div>"
      ]
     },
     "metadata": {},
     "output_type": "display_data"
    }
   ],
   "source": [
    "status_codes(codes[\"status\"], width=700, height=700, subtitle=\"example.com\")"
   ]
  },
  {
   "cell_type": "markdown",
   "id": "7bf9daec-c717-445d-a801-312c3eb4093a",
   "metadata": {},
   "source": [
    "## Modify the title of the chart, and make use of various HTML tags `<a>`, `<b>`, `<br>`, `<i>`, `<sub>`, `<sup>`"
   ]
  },
  {
   "cell_type": "code",
   "execution_count": null,
   "id": "bf4b811b-550e-45cb-8ae8-477d8bcac618",
   "metadata": {},
   "outputs": [
    {
     "data": {
      "text/html": [
       "<div>            <script src=\"https://cdnjs.cloudflare.com/ajax/libs/mathjax/2.7.5/MathJax.js?config=TeX-AMS-MML_SVG\"></script><script type=\"text/javascript\">if (window.MathJax && window.MathJax.Hub && window.MathJax.Hub.Config) {window.MathJax.Hub.Config({SVG: {font: \"STIX-Web\"}});}</script>                <script type=\"text/javascript\">window.PlotlyConfig = {MathJaxConfig: 'local'};</script>\n",
       "        <script charset=\"utf-8\" src=\"https://cdn.plot.ly/plotly-3.0.1.min.js\" integrity=\"sha256-oy6Be7Eh6eiQFs5M7oXuPxxm9qbJXEtTpfSI93dW16Q=\" crossorigin=\"anonymous\"></script>                <div id=\"f37046c0-535d-4344-800c-8a309bd5b66f\" class=\"plotly-graph-div\" style=\"height:700px; width:1300px;\"></div>            <script type=\"text/javascript\">                window.PLOTLYENV=window.PLOTLYENV || {};                                if (document.getElementById(\"f37046c0-535d-4344-800c-8a309bd5b66f\")) {                    Plotly.newPlot(                        \"f37046c0-535d-4344-800c-8a309bd5b66f\",                        [{\"branchvalues\":\"total\",\"customdata\":[[\"Not Found\"],[\"Forbidden\"],[\"Service Unavailable\"],[\"Unauthorized\"],[\"Too Many Requests\"],[\"Method Not Allowed\"],[\"Conflict\"],[\"Bad Request\"],[\"Internal Server Error\"],[\"(?)\"],[\"(?)\"],[\"(?)\"]],\"domain\":{\"x\":[0.0,1.0],\"y\":[0.0,1.0]},\"hovertemplate\":\"\\u003cb\\u003e%{label} \\u003c\\u002fb\\u003e\\u003cbr\\u003e\\u003cbr\\u003eStatus code: %{label} %{customdata[0]}\\u003cbr\\u003eCount: %{value:,}\\u003cbr\\u003e%{percentParent:.1%} of %{parent}\\u003cbr\\u003e\",\"hovertext\":[\"400\",\"400\",\"500\",\"400\",\"400\",\"400\",\"400\",\"400\",\"500\",\"400\",\"500\",\"(?)\"],\"ids\":[\"Status codes\\u002f400\\u002f404\",\"Status codes\\u002f400\\u002f403\",\"Status codes\\u002f500\\u002f503\",\"Status codes\\u002f400\\u002f401\",\"Status codes\\u002f400\\u002f429\",\"Status codes\\u002f400\\u002f405\",\"Status codes\\u002f400\\u002f409\",\"Status codes\\u002f400\\u002f400\",\"Status codes\\u002f500\\u002f500\",\"Status codes\\u002f400\",\"Status codes\\u002f500\",\"Status codes\"],\"labels\":[\"404\",\"403\",\"503\",\"401\",\"429\",\"405\",\"409\",\"400\",\"500\",\"400\",\"500\",\"Status codes\"],\"maxdepth\":2,\"name\":\"\",\"parents\":[\"Status codes\\u002f400\",\"Status codes\\u002f400\",\"Status codes\\u002f500\",\"Status codes\\u002f400\",\"Status codes\\u002f400\",\"Status codes\\u002f400\",\"Status codes\\u002f400\",\"Status codes\\u002f400\",\"Status codes\\u002f500\",\"Status codes\",\"Status codes\",\"\"],\"values\":{\"dtype\":\"f8\",\"bdata\":\"AAAAAAAyrUAAAAAAACiQQAAAAAAAwHBAAAAAAADAXkAAAAAAAABPQAAAAAAAAEpAAAAAAAAAOUAAAAAAAAA3QAAAAAAAABxAAAAAAADAs0AAAAAAADBxQAAAAAAA07RA\"},\"type\":\"treemap\",\"marker\":{\"line\":{\"width\":0.01},\"pad\":{\"b\":0,\"l\":0,\"r\":0,\"t\":0}},\"texttemplate\":\"\\u003cb\\u003e%{label} \\u003c\\u002fb\\u003e\\u003cbr\\u003e\\u003cbr\\u003eStatus code: %{label} %{customdata[0]}\\u003cbr\\u003eCount: %{value:,}\\u003cbr\\u003e%{percentParent:.1%} of %{parent}\\u003cbr\\u003e\"}],                        {\"template\":{\"data\":{\"barpolar\":[{\"marker\":{\"line\":{\"color\":\"rgb(237,237,237)\",\"width\":0.5},\"pattern\":{\"fillmode\":\"overlay\",\"size\":10,\"solidity\":0.2}},\"type\":\"barpolar\"}],\"bar\":[{\"error_x\":{\"color\":\"rgb(51,51,51)\"},\"error_y\":{\"color\":\"rgb(51,51,51)\"},\"marker\":{\"line\":{\"color\":\"rgb(237,237,237)\",\"width\":0.5},\"pattern\":{\"fillmode\":\"overlay\",\"size\":10,\"solidity\":0.2}},\"type\":\"bar\"}],\"carpet\":[{\"aaxis\":{\"endlinecolor\":\"rgb(51,51,51)\",\"gridcolor\":\"white\",\"linecolor\":\"white\",\"minorgridcolor\":\"white\",\"startlinecolor\":\"rgb(51,51,51)\"},\"baxis\":{\"endlinecolor\":\"rgb(51,51,51)\",\"gridcolor\":\"white\",\"linecolor\":\"white\",\"minorgridcolor\":\"white\",\"startlinecolor\":\"rgb(51,51,51)\"},\"type\":\"carpet\"}],\"choropleth\":[{\"colorbar\":{\"outlinewidth\":0,\"tickcolor\":\"rgb(237,237,237)\",\"ticklen\":6,\"ticks\":\"inside\"},\"type\":\"choropleth\"}],\"contourcarpet\":[{\"colorbar\":{\"outlinewidth\":0,\"tickcolor\":\"rgb(237,237,237)\",\"ticklen\":6,\"ticks\":\"inside\"},\"type\":\"contourcarpet\"}],\"contour\":[{\"colorbar\":{\"outlinewidth\":0,\"tickcolor\":\"rgb(237,237,237)\",\"ticklen\":6,\"ticks\":\"inside\"},\"colorscale\":[[0,\"rgb(20,44,66)\"],[1,\"rgb(90,179,244)\"]],\"type\":\"contour\"}],\"heatmap\":[{\"colorbar\":{\"outlinewidth\":0,\"tickcolor\":\"rgb(237,237,237)\",\"ticklen\":6,\"ticks\":\"inside\"},\"colorscale\":[[0,\"rgb(20,44,66)\"],[1,\"rgb(90,179,244)\"]],\"type\":\"heatmap\"}],\"histogram2dcontour\":[{\"colorbar\":{\"outlinewidth\":0,\"tickcolor\":\"rgb(237,237,237)\",\"ticklen\":6,\"ticks\":\"inside\"},\"colorscale\":[[0,\"rgb(20,44,66)\"],[1,\"rgb(90,179,244)\"]],\"type\":\"histogram2dcontour\"}],\"histogram2d\":[{\"colorbar\":{\"outlinewidth\":0,\"tickcolor\":\"rgb(237,237,237)\",\"ticklen\":6,\"ticks\":\"inside\"},\"colorscale\":[[0,\"rgb(20,44,66)\"],[1,\"rgb(90,179,244)\"]],\"type\":\"histogram2d\"}],\"histogram\":[{\"marker\":{\"pattern\":{\"fillmode\":\"overlay\",\"size\":10,\"solidity\":0.2}},\"type\":\"histogram\"}],\"mesh3d\":[{\"colorbar\":{\"outlinewidth\":0,\"tickcolor\":\"rgb(237,237,237)\",\"ticklen\":6,\"ticks\":\"inside\"},\"type\":\"mesh3d\"}],\"parcoords\":[{\"line\":{\"colorbar\":{\"outlinewidth\":0,\"tickcolor\":\"rgb(237,237,237)\",\"ticklen\":6,\"ticks\":\"inside\"}},\"type\":\"parcoords\"}],\"pie\":[{\"automargin\":true,\"type\":\"pie\"}],\"scatter3d\":[{\"line\":{\"colorbar\":{\"outlinewidth\":0,\"tickcolor\":\"rgb(237,237,237)\",\"ticklen\":6,\"ticks\":\"inside\"}},\"marker\":{\"colorbar\":{\"outlinewidth\":0,\"tickcolor\":\"rgb(237,237,237)\",\"ticklen\":6,\"ticks\":\"inside\"}},\"type\":\"scatter3d\"}],\"scattercarpet\":[{\"marker\":{\"colorbar\":{\"outlinewidth\":0,\"tickcolor\":\"rgb(237,237,237)\",\"ticklen\":6,\"ticks\":\"inside\"}},\"type\":\"scattercarpet\"}],\"scattergeo\":[{\"marker\":{\"colorbar\":{\"outlinewidth\":0,\"tickcolor\":\"rgb(237,237,237)\",\"ticklen\":6,\"ticks\":\"inside\"}},\"type\":\"scattergeo\"}],\"scattergl\":[{\"marker\":{\"colorbar\":{\"outlinewidth\":0,\"tickcolor\":\"rgb(237,237,237)\",\"ticklen\":6,\"ticks\":\"inside\"}},\"type\":\"scattergl\"}],\"scattermapbox\":[{\"marker\":{\"colorbar\":{\"outlinewidth\":0,\"tickcolor\":\"rgb(237,237,237)\",\"ticklen\":6,\"ticks\":\"inside\"}},\"type\":\"scattermapbox\"}],\"scattermap\":[{\"marker\":{\"colorbar\":{\"outlinewidth\":0,\"tickcolor\":\"rgb(237,237,237)\",\"ticklen\":6,\"ticks\":\"inside\"}},\"type\":\"scattermap\"}],\"scatterpolargl\":[{\"marker\":{\"colorbar\":{\"outlinewidth\":0,\"tickcolor\":\"rgb(237,237,237)\",\"ticklen\":6,\"ticks\":\"inside\"}},\"type\":\"scatterpolargl\"}],\"scatterpolar\":[{\"marker\":{\"colorbar\":{\"outlinewidth\":0,\"tickcolor\":\"rgb(237,237,237)\",\"ticklen\":6,\"ticks\":\"inside\"}},\"type\":\"scatterpolar\"}],\"scatter\":[{\"fillpattern\":{\"fillmode\":\"overlay\",\"size\":10,\"solidity\":0.2},\"type\":\"scatter\"}],\"scatterternary\":[{\"marker\":{\"colorbar\":{\"outlinewidth\":0,\"tickcolor\":\"rgb(237,237,237)\",\"ticklen\":6,\"ticks\":\"inside\"}},\"type\":\"scatterternary\"}],\"surface\":[{\"colorbar\":{\"outlinewidth\":0,\"tickcolor\":\"rgb(237,237,237)\",\"ticklen\":6,\"ticks\":\"inside\"},\"colorscale\":[[0,\"rgb(20,44,66)\"],[1,\"rgb(90,179,244)\"]],\"type\":\"surface\"}],\"table\":[{\"cells\":{\"fill\":{\"color\":\"rgb(237,237,237)\"},\"line\":{\"color\":\"white\"}},\"header\":{\"fill\":{\"color\":\"rgb(217,217,217)\"},\"line\":{\"color\":\"white\"}},\"type\":\"table\"}]},\"layout\":{\"annotationdefaults\":{\"arrowhead\":0,\"arrowwidth\":1},\"autotypenumbers\":\"strict\",\"coloraxis\":{\"colorbar\":{\"outlinewidth\":0,\"tickcolor\":\"rgb(237,237,237)\",\"ticklen\":6,\"ticks\":\"inside\"}},\"colorscale\":{\"sequential\":[[0,\"rgb(20,44,66)\"],[1,\"rgb(90,179,244)\"]],\"sequentialminus\":[[0,\"rgb(20,44,66)\"],[1,\"rgb(90,179,244)\"]]},\"colorway\":[\"#F8766D\",\"#A3A500\",\"#00BF7D\",\"#00B0F6\",\"#E76BF3\"],\"font\":{\"color\":\"rgb(51,51,51)\"},\"geo\":{\"bgcolor\":\"white\",\"lakecolor\":\"white\",\"landcolor\":\"rgb(237,237,237)\",\"showlakes\":true,\"showland\":true,\"subunitcolor\":\"white\"},\"hoverlabel\":{\"align\":\"left\"},\"hovermode\":\"closest\",\"paper_bgcolor\":\"white\",\"plot_bgcolor\":\"rgb(237,237,237)\",\"polar\":{\"angularaxis\":{\"gridcolor\":\"white\",\"linecolor\":\"white\",\"showgrid\":true,\"tickcolor\":\"rgb(51,51,51)\",\"ticks\":\"outside\"},\"bgcolor\":\"rgb(237,237,237)\",\"radialaxis\":{\"gridcolor\":\"white\",\"linecolor\":\"white\",\"showgrid\":true,\"tickcolor\":\"rgb(51,51,51)\",\"ticks\":\"outside\"}},\"scene\":{\"xaxis\":{\"backgroundcolor\":\"rgb(237,237,237)\",\"gridcolor\":\"white\",\"gridwidth\":2,\"linecolor\":\"white\",\"showbackground\":true,\"showgrid\":true,\"tickcolor\":\"rgb(51,51,51)\",\"ticks\":\"outside\",\"zerolinecolor\":\"white\"},\"yaxis\":{\"backgroundcolor\":\"rgb(237,237,237)\",\"gridcolor\":\"white\",\"gridwidth\":2,\"linecolor\":\"white\",\"showbackground\":true,\"showgrid\":true,\"tickcolor\":\"rgb(51,51,51)\",\"ticks\":\"outside\",\"zerolinecolor\":\"white\"},\"zaxis\":{\"backgroundcolor\":\"rgb(237,237,237)\",\"gridcolor\":\"white\",\"gridwidth\":2,\"linecolor\":\"white\",\"showbackground\":true,\"showgrid\":true,\"tickcolor\":\"rgb(51,51,51)\",\"ticks\":\"outside\",\"zerolinecolor\":\"white\"}},\"shapedefaults\":{\"fillcolor\":\"black\",\"line\":{\"width\":0},\"opacity\":0.3},\"ternary\":{\"aaxis\":{\"gridcolor\":\"white\",\"linecolor\":\"white\",\"showgrid\":true,\"tickcolor\":\"rgb(51,51,51)\",\"ticks\":\"outside\"},\"baxis\":{\"gridcolor\":\"white\",\"linecolor\":\"white\",\"showgrid\":true,\"tickcolor\":\"rgb(51,51,51)\",\"ticks\":\"outside\"},\"bgcolor\":\"rgb(237,237,237)\",\"caxis\":{\"gridcolor\":\"white\",\"linecolor\":\"white\",\"showgrid\":true,\"tickcolor\":\"rgb(51,51,51)\",\"ticks\":\"outside\"}},\"xaxis\":{\"automargin\":true,\"gridcolor\":\"white\",\"linecolor\":\"white\",\"showgrid\":true,\"tickcolor\":\"rgb(51,51,51)\",\"ticks\":\"outside\",\"title\":{\"standoff\":15},\"zerolinecolor\":\"white\"},\"yaxis\":{\"automargin\":true,\"gridcolor\":\"white\",\"linecolor\":\"white\",\"showgrid\":true,\"tickcolor\":\"rgb(51,51,51)\",\"ticks\":\"outside\",\"title\":{\"standoff\":15},\"zerolinecolor\":\"white\"}}},\"legend\":{\"tracegroupgap\":0},\"title\":{\"text\":\"Error Codes distribution \\u003cb\\u003e400\\u003c\\u002fb\\u003e and \\u003cb\\u003e500\\u003c\\u002fb\\u003e\\u003cbr\\u003eclickable: \\u003ci\\u003e\\u003ca href=\\\"https:\\u002f\\u002fmywebsite.com\\\"\\u003eMyWebsite.com\\u003c\\u002fi\\u003e – April 3, 2023\"},\"height\":700,\"width\":1300},                        {\"responsive\": true}                    ).then(function(){\n",
       "                            \n",
       "var gd = document.getElementById('f37046c0-535d-4344-800c-8a309bd5b66f');\n",
       "var x = new MutationObserver(function (mutations, observer) {{\n",
       "        var display = window.getComputedStyle(gd).display;\n",
       "        if (!display || display === 'none') {{\n",
       "            console.log([gd, 'removed!']);\n",
       "            Plotly.purge(gd);\n",
       "            observer.disconnect();\n",
       "        }}\n",
       "}});\n",
       "\n",
       "// Listen for the removal of the full notebook cells\n",
       "var notebookContainer = gd.closest('#notebook-container');\n",
       "if (notebookContainer) {{\n",
       "    x.observe(notebookContainer, {childList: true});\n",
       "}}\n",
       "\n",
       "// Listen for the clearing of the current output cell\n",
       "var outputEl = gd.closest('.output');\n",
       "if (outputEl) {{\n",
       "    x.observe(outputEl, {childList: true});\n",
       "}}\n",
       "\n",
       "                        })                };            </script>        </div>"
      ]
     },
     "metadata": {},
     "output_type": "display_data"
    }
   ],
   "source": [
    "website = \"MyWebsite.com\"\n",
    "title = f'Error Codes distribution <b>400</b> and <b>500</b><br>clickable: <i><a href=\"https://mywebsite.com\">{website}</i> – April 3, 2023'\n",
    "\n",
    "status_codes(\n",
    "    codes.query(\"status >= 400\")[\"status\"],\n",
    "    title=title,\n",
    "    height=700,\n",
    "    width=1300,\n",
    "    template=\"ggplot2\",\n",
    ")"
   ]
  },
  {
   "cell_type": "markdown",
   "id": "b0795917-1a89-4a01-9d2d-1bab2b345027",
   "metadata": {},
   "source": [
    "### Try downloading, interacting with, and emailing this chart. [File link](data/status_code_chart.html)"
   ]
  },
  {
   "cell_type": "code",
   "execution_count": null,
   "id": "e6923525-844c-4ce1-a663-472734d8b804",
   "metadata": {},
   "outputs": [],
   "source": [
    "# | hide\n",
    "# | echo: false\n",
    "# | execute: false\n",
    "status_codes(codes[\"status\"], theme=\"plotly_dark\").write_image(\n",
    "    \"data/images/status_codes_chart.png\"\n",
    ")"
   ]
  },
  {
   "cell_type": "code",
   "execution_count": null,
   "id": "2c475539-3582-4ec3-9481-0ee815db4209",
   "metadata": {},
   "outputs": [],
   "source": [
    "# | hide\n",
    "import nbdev\n",
    "\n",
    "nbdev.nbdev_export()"
   ]
  }
 ],
 "metadata": {
  "kernelspec": {
   "display_name": "python3",
   "language": "python",
   "name": "python3"
  },
  "widgets": {
   "application/vnd.jupyter.widget-state+json": {
    "state": {},
    "version_major": 2,
    "version_minor": 0
   }
  }
 },
 "nbformat": 4,
 "nbformat_minor": 5
}
